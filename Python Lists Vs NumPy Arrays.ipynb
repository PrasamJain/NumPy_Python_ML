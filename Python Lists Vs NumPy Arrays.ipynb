{
 "cells": [
  {
   "cell_type": "markdown",
   "id": "fe0ce3da",
   "metadata": {},
   "source": [
    "# Python Lists Vs NumPy Array"
   ]
  },
  {
   "cell_type": "code",
   "execution_count": 1,
   "id": "e285d5b3",
   "metadata": {},
   "outputs": [],
   "source": [
    "import numpy as np"
   ]
  },
  {
   "cell_type": "markdown",
   "id": "3f49e275",
   "metadata": {},
   "source": [
    "# 1) Memory efficient"
   ]
  },
  {
   "cell_type": "markdown",
   "id": "b3f4a9b3",
   "metadata": {},
   "source": [
    "### we have numpy array as well as python lists of size 100 and we have to calculate how much memory occupied by both."
   ]
  },
  {
   "cell_type": "code",
   "execution_count": 2,
   "id": "bc1fa67e",
   "metadata": {},
   "outputs": [
    {
     "data": {
      "text/plain": [
       "array([ 0,  1,  2,  3,  4,  5,  6,  7,  8,  9, 10, 11, 12, 13, 14, 15, 16,\n",
       "       17, 18, 19, 20, 21, 22, 23, 24, 25, 26, 27, 28, 29, 30, 31, 32, 33,\n",
       "       34, 35, 36, 37, 38, 39, 40, 41, 42, 43, 44, 45, 46, 47, 48, 49, 50,\n",
       "       51, 52, 53, 54, 55, 56, 57, 58, 59, 60, 61, 62, 63, 64, 65, 66, 67,\n",
       "       68, 69, 70, 71, 72, 73, 74, 75, 76, 77, 78, 79, 80, 81, 82, 83, 84,\n",
       "       85, 86, 87, 88, 89, 90, 91, 92, 93, 94, 95, 96, 97, 98, 99])"
      ]
     },
     "execution_count": 2,
     "metadata": {},
     "output_type": "execute_result"
    }
   ],
   "source": [
    "arr1 = np.arange(100)\n",
    "arr1"
   ]
  },
  {
   "cell_type": "code",
   "execution_count": 4,
   "id": "abdb40c9",
   "metadata": {},
   "outputs": [
    {
     "data": {
      "text/plain": [
       "range(0, 100)"
      ]
     },
     "execution_count": 4,
     "metadata": {},
     "output_type": "execute_result"
    }
   ],
   "source": [
    "lista = range(100)\n",
    "lista"
   ]
  },
  {
   "cell_type": "code",
   "execution_count": 8,
   "id": "8d40905c",
   "metadata": {},
   "outputs": [
    {
     "data": {
      "text/plain": [
       "100"
      ]
     },
     "execution_count": 8,
     "metadata": {},
     "output_type": "execute_result"
    }
   ],
   "source": [
    "len(lista)"
   ]
  },
  {
   "cell_type": "code",
   "execution_count": 26,
   "id": "900adfad",
   "metadata": {},
   "outputs": [
    {
     "data": {
      "text/plain": [
       "100"
      ]
     },
     "execution_count": 26,
     "metadata": {},
     "output_type": "execute_result"
    }
   ],
   "source": [
    "len(arr1)"
   ]
  },
  {
   "cell_type": "code",
   "execution_count": 10,
   "id": "f9bd8604",
   "metadata": {},
   "outputs": [],
   "source": [
    "# for calculate size of list we import system library\n",
    "import sys"
   ]
  },
  {
   "cell_type": "code",
   "execution_count": 15,
   "id": "7379292a",
   "metadata": {},
   "outputs": [
    {
     "data": {
      "text/plain": [
       "28"
      ]
     },
     "execution_count": 15,
     "metadata": {},
     "output_type": "execute_result"
    }
   ],
   "source": [
    "sys.getsizeof(10)     # size of single data in list"
   ]
  },
  {
   "cell_type": "code",
   "execution_count": 11,
   "id": "09ed6442",
   "metadata": {},
   "outputs": [
    {
     "name": "stdout",
     "output_type": "stream",
     "text": [
      "2800\n"
     ]
    }
   ],
   "source": [
    "print(sys.getsizeof(50)*len(lista))    # take size of 1 element * length of list"
   ]
  },
  {
   "cell_type": "code",
   "execution_count": 21,
   "id": "a3ed8ab8",
   "metadata": {},
   "outputs": [
    {
     "name": "stdout",
     "output_type": "stream",
     "text": [
      "4\n"
     ]
    }
   ],
   "source": [
    "print(arr1.itemsize)     #size of single data in numpy array"
   ]
  },
  {
   "cell_type": "code",
   "execution_count": 22,
   "id": "564dcdce",
   "metadata": {},
   "outputs": [
    {
     "name": "stdout",
     "output_type": "stream",
     "text": [
      "400\n"
     ]
    }
   ],
   "source": [
    "print(arr1.itemsize * len(arr1))"
   ]
  },
  {
   "cell_type": "code",
   "execution_count": 25,
   "id": "b1529c37",
   "metadata": {},
   "outputs": [
    {
     "name": "stdout",
     "output_type": "stream",
     "text": [
      "400\n"
     ]
    }
   ],
   "source": [
    "print(arr1.itemsize * arr1.size)"
   ]
  },
  {
   "cell_type": "code",
   "execution_count": null,
   "id": "9482590f",
   "metadata": {},
   "outputs": [],
   "source": [
    "# we see that python list contain 2800 bytes but numpy array only take 400 bytes for storing 100 elements.\n",
    "# henced numpy array is memory efficient instead of python list"
   ]
  },
  {
   "cell_type": "markdown",
   "id": "3907a83d",
   "metadata": {},
   "source": [
    "# 2) Faster"
   ]
  },
  {
   "cell_type": "markdown",
   "id": "242a6d0a",
   "metadata": {},
   "source": [
    "### now we have to take 1-1 item from both & add them and store in another list c and calculate time fot that."
   ]
  },
  {
   "cell_type": "code",
   "execution_count": 27,
   "id": "d5a4c643",
   "metadata": {},
   "outputs": [],
   "source": [
    "# for calculate speed of list & array we import time\n",
    "import time"
   ]
  },
  {
   "cell_type": "code",
   "execution_count": 76,
   "id": "0da15e08",
   "metadata": {},
   "outputs": [
    {
     "name": "stdout",
     "output_type": "stream",
     "text": [
      "2.005206823348999\n"
     ]
    }
   ],
   "source": [
    "# we create two lists of 1 crore items\n",
    "x = range(10000000)\n",
    "y = range(10000000,20000000)\n",
    "\n",
    "start_time = time.time()\n",
    "\n",
    "c = [(x+y) for x,y in zip(x,y)] \n",
    "\n",
    "print(time.time() - start_time)        # current time - start time"
   ]
  },
  {
   "cell_type": "code",
   "execution_count": 58,
   "id": "5b8d264d",
   "metadata": {},
   "outputs": [],
   "source": [
    "# NOTE : zip() function is an iterator of tuples where the first item in each passed iterator is paired together \n",
    "# then second then third item paired together and so on."
   ]
  },
  {
   "cell_type": "code",
   "execution_count": 78,
   "id": "88b68c5d",
   "metadata": {},
   "outputs": [
    {
     "name": "stdout",
     "output_type": "stream",
     "text": [
      "0.029140472412109375\n"
     ]
    }
   ],
   "source": [
    "# we run same code for array\n",
    "a = np.arange(10000000)\n",
    "b = np.arange(10000000,20000000)\n",
    "\n",
    "start_time = time.time()\n",
    "c = a+b                         # we don't write complex syntax like above\n",
    "print(time.time() - start_time)"
   ]
  },
  {
   "cell_type": "code",
   "execution_count": null,
   "id": "f044ab3e",
   "metadata": {},
   "outputs": [],
   "source": [
    "# so, we see that numpy array only take 0.0291s but lists take 2.0052s to complete its code."
   ]
  },
  {
   "cell_type": "markdown",
   "id": "f0471a9a",
   "metadata": {},
   "source": [
    "# 3) Convenient"
   ]
  },
  {
   "cell_type": "markdown",
   "id": "ebc6da3d",
   "metadata": {},
   "source": [
    "### when we combine both data in list we write lond syntax but in numpy array we write short syntax so it is convenient also."
   ]
  },
  {
   "cell_type": "code",
   "execution_count": null,
   "id": "522e6a7c",
   "metadata": {},
   "outputs": [],
   "source": []
  }
 ],
 "metadata": {
  "kernelspec": {
   "display_name": "Python 3 (ipykernel)",
   "language": "python",
   "name": "python3"
  },
  "language_info": {
   "codemirror_mode": {
    "name": "ipython",
    "version": 3
   },
   "file_extension": ".py",
   "mimetype": "text/x-python",
   "name": "python",
   "nbconvert_exporter": "python",
   "pygments_lexer": "ipython3",
   "version": "3.9.12"
  }
 },
 "nbformat": 4,
 "nbformat_minor": 5
}
