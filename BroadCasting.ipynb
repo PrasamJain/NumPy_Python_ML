{
 "cells": [
  {
   "cell_type": "code",
   "execution_count": 1,
   "id": "36763d64",
   "metadata": {},
   "outputs": [],
   "source": [
    "import numpy as np"
   ]
  },
  {
   "cell_type": "markdown",
   "id": "45aedd62",
   "metadata": {},
   "source": [
    "## Broadcasting\n",
    "\n",
    "#### The term broadcasting refers to the ability of NumPy to treat arrays of different shapes during arithmetic operations. Arithmetic operations on arrays are usually done on corresponding elements. If two arrays are of exactly the same shape, then these operations are smoothly performed.\n",
    "\n",
    "#### If the dimensions of two arrays are dissimilar, element-to-element operations are not possible. However, operations on arrays of non-similar shapes is still possible in NumPy, because of the broadcasting capability. The smaller array is broadcast to the size of the larger array so that they have compatible shapes."
   ]
  },
  {
   "cell_type": "code",
   "execution_count": 2,
   "id": "80a1eac9",
   "metadata": {},
   "outputs": [
    {
     "name": "stdout",
     "output_type": "stream",
     "text": [
      "[[0 1 2 3]\n",
      " [4 5 6 7]]\n",
      "[[ 8  9 10 11]\n",
      " [12 13 14 15]]\n"
     ]
    }
   ],
   "source": [
    "# we have two Scenarios\n",
    "# Scenario 1 : size of arrays was same\n",
    "\n",
    "a1 = np.arange(8).reshape(2,4)\n",
    "a2 = np.arange(8,16).reshape(2,4)\n",
    "print(a1)\n",
    "print(a2)"
   ]
  },
  {
   "cell_type": "code",
   "execution_count": 3,
   "id": "49ba36ae",
   "metadata": {},
   "outputs": [
    {
     "data": {
      "text/plain": [
       "array([[ 8, 10, 12, 14],\n",
       "       [16, 18, 20, 22]])"
      ]
     },
     "execution_count": 3,
     "metadata": {},
     "output_type": "execute_result"
    }
   ],
   "source": [
    "a1+a2"
   ]
  },
  {
   "cell_type": "code",
   "execution_count": 8,
   "id": "5c1af399",
   "metadata": {},
   "outputs": [
    {
     "name": "stdout",
     "output_type": "stream",
     "text": [
      "[[0 1 2]\n",
      " [3 4 5]\n",
      " [6 7 8]]\n",
      "\n",
      "[[0 1 2]]\n"
     ]
    }
   ],
   "source": [
    "# Scenario 2 : size of arrays was different\n",
    "\n",
    "a3 = np.arange(9).reshape(3,3)\n",
    "a4 = np.arange(3).reshape(1,3)\n",
    "print(a3)\n",
    "print()\n",
    "print(a4)"
   ]
  },
  {
   "cell_type": "markdown",
   "id": "c2637972",
   "metadata": {},
   "source": [
    "#### Broadcasting : to join dis-simmilar size of array"
   ]
  },
  {
   "cell_type": "code",
   "execution_count": 6,
   "id": "e9b66477",
   "metadata": {},
   "outputs": [
    {
     "data": {
      "text/plain": [
       "array([[ 0,  2,  4],\n",
       "       [ 3,  5,  7],\n",
       "       [ 6,  8, 10]])"
      ]
     },
     "execution_count": 6,
     "metadata": {},
     "output_type": "execute_result"
    }
   ],
   "source": [
    "# row of a4 array was added to every rows of a3 array\n",
    "\n",
    "a3+a4"
   ]
  },
  {
   "cell_type": "markdown",
   "id": "7b0be90a",
   "metadata": {},
   "source": [
    "#### Rules for Broadcasting"
   ]
  },
  {
   "cell_type": "code",
   "execution_count": 11,
   "id": "9d9354aa",
   "metadata": {},
   "outputs": [
    {
     "name": "stdout",
     "output_type": "stream",
     "text": [
      "[[0 1 2 3]\n",
      " [4 5 6 7]]\n",
      "[[ 8  9 10 11]\n",
      " [12 13 14 15]]\n"
     ]
    },
    {
     "data": {
      "text/plain": [
       "array([[ 8, 10, 12, 14],\n",
       "       [16, 18, 20, 22]])"
      ]
     },
     "execution_count": 11,
     "metadata": {},
     "output_type": "execute_result"
    }
   ],
   "source": [
    "# 1) if both have same dimensions then broadcasting take place automatic\n",
    "'''\n",
    "    (x,y)        formate\n",
    "    (m,n)\n",
    "'''\n",
    "a1 = np.arange(8).reshape(2,4)          \n",
    "a2 = np.arange(8,16).reshape(2,4)\n",
    "print(a1)\n",
    "print(a2)\n",
    "a1+a2"
   ]
  },
  {
   "cell_type": "code",
   "execution_count": 15,
   "id": "e9ccf161",
   "metadata": {},
   "outputs": [
    {
     "name": "stdout",
     "output_type": "stream",
     "text": [
      "[[0 1 2]]\n",
      "[[ 0  1  2]\n",
      " [ 3  4  5]\n",
      " [ 6  7  8]\n",
      " [ 9 10 11]]\n"
     ]
    },
    {
     "data": {
      "text/plain": [
       "array([[ 0,  2,  4],\n",
       "       [ 3,  5,  7],\n",
       "       [ 6,  8, 10],\n",
       "       [ 9, 11, 13]])"
      ]
     },
     "execution_count": 15,
     "metadata": {},
     "output_type": "execute_result"
    }
   ],
   "source": [
    "# 2) if x=1 and y=n (out of 4, any number is 1 & corresponding are same)\n",
    "\n",
    "a3 = np.arange(3).reshape(1,3)         # corresponding 3 and 3 same\n",
    "a4 = np.arange(12).reshape(4,3)\n",
    "print(a3)\n",
    "print(a4)\n",
    "a3+a4"
   ]
  },
  {
   "cell_type": "code",
   "execution_count": 13,
   "id": "8c1f03f4",
   "metadata": {},
   "outputs": [
    {
     "name": "stdout",
     "output_type": "stream",
     "text": [
      "[[0]\n",
      " [1]\n",
      " [2]\n",
      " [3]]\n",
      "[[ 0  1  2]\n",
      " [ 3  4  5]\n",
      " [ 6  7  8]\n",
      " [ 9 10 11]]\n"
     ]
    },
    {
     "data": {
      "text/plain": [
       "array([[ 0,  1,  2],\n",
       "       [ 4,  5,  6],\n",
       "       [ 8,  9, 10],\n",
       "       [12, 13, 14]])"
      ]
     },
     "execution_count": 13,
     "metadata": {},
     "output_type": "execute_result"
    }
   ],
   "source": [
    "a3 = np.arange(4).reshape(4,1)         # corresponding to 1, 4 and 4 same\n",
    "a4 = np.arange(12).reshape(4,3)\n",
    "print(a3)\n",
    "print(a4)\n",
    "a3+a4"
   ]
  },
  {
   "cell_type": "code",
   "execution_count": 16,
   "id": "3dfc5035",
   "metadata": {},
   "outputs": [
    {
     "name": "stdout",
     "output_type": "stream",
     "text": [
      "[[0 1 2]]\n",
      "[[0]\n",
      " [1]\n",
      " [2]]\n"
     ]
    },
    {
     "data": {
      "text/plain": [
       "array([[0, 1, 2],\n",
       "       [1, 2, 3],\n",
       "       [2, 3, 4]])"
      ]
     },
     "execution_count": 16,
     "metadata": {},
     "output_type": "execute_result"
    }
   ],
   "source": [
    "# 3) if x=1 & n=1 then y==m (opposite elements are same) \n",
    "\n",
    "'''\n",
    "(x,y)   =  (1,y)\n",
    "(m,n)   =  (m,1)\n",
    "'''\n",
    "a3 = np.arange(3).reshape(1,3)        \n",
    "a4 = np.arange(3).reshape(3,1)\n",
    "print(a3)\n",
    "print(a4)\n",
    "a3+a4"
   ]
  },
  {
   "cell_type": "code",
   "execution_count": 19,
   "id": "ee1e5c03",
   "metadata": {},
   "outputs": [
    {
     "name": "stdout",
     "output_type": "stream",
     "text": [
      "[[5]]\n",
      "[[ 0  1  2]\n",
      " [ 3  4  5]\n",
      " [ 6  7  8]\n",
      " [ 9 10 11]]\n"
     ]
    },
    {
     "data": {
      "text/plain": [
       "array([[ 5,  6,  7],\n",
       "       [ 8,  9, 10],\n",
       "       [11, 12, 13],\n",
       "       [14, 15, 16]])"
      ]
     },
     "execution_count": 19,
     "metadata": {},
     "output_type": "execute_result"
    }
   ],
   "source": [
    "# 4) x=1 and y=1 (one array only contain single element)\n",
    "\n",
    "a3 = np.arange(5,6).reshape(1,1)        \n",
    "a4 = np.arange(12).reshape(4,3)\n",
    "print(a3)\n",
    "print(a4)\n",
    "a3+a4"
   ]
  },
  {
   "cell_type": "code",
   "execution_count": 21,
   "id": "9bb2bd54",
   "metadata": {},
   "outputs": [
    {
     "name": "stdout",
     "output_type": "stream",
     "text": [
      "[0 1 2 3]\n",
      "[[ 0  1  2  3]\n",
      " [ 4  5  6  7]\n",
      " [ 8  9 10 11]]\n"
     ]
    },
    {
     "data": {
      "text/plain": [
       "array([[ 0,  2,  4,  6],\n",
       "       [ 4,  6,  8, 10],\n",
       "       [ 8, 10, 12, 14]])"
      ]
     },
     "execution_count": 21,
     "metadata": {},
     "output_type": "execute_result"
    }
   ],
   "source": [
    "# 5) if both have different dimensions but x == n (last value are same)\n",
    "\n",
    "a3 = np.arange(4)         # 1D\n",
    "a4 = np.arange(12).reshape(3,4)     #2D\n",
    "print(a3)\n",
    "print(a4)\n",
    "a3+a4"
   ]
  },
  {
   "cell_type": "code",
   "execution_count": null,
   "id": "73a4a712",
   "metadata": {},
   "outputs": [],
   "source": []
  }
 ],
 "metadata": {
  "kernelspec": {
   "display_name": "Python 3 (ipykernel)",
   "language": "python",
   "name": "python3"
  },
  "language_info": {
   "codemirror_mode": {
    "name": "ipython",
    "version": 3
   },
   "file_extension": ".py",
   "mimetype": "text/x-python",
   "name": "python",
   "nbconvert_exporter": "python",
   "pygments_lexer": "ipython3",
   "version": "3.9.12"
  }
 },
 "nbformat": 4,
 "nbformat_minor": 5
}
