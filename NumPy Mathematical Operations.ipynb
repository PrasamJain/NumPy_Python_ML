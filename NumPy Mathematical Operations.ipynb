{
 "cells": [
  {
   "cell_type": "code",
   "execution_count": 1,
   "id": "8f7317e1",
   "metadata": {},
   "outputs": [],
   "source": [
    "import numpy as np"
   ]
  },
  {
   "cell_type": "code",
   "execution_count": 2,
   "id": "7ca0ec5f",
   "metadata": {},
   "outputs": [],
   "source": [
    "arr1 = np.array([1,2,3,4,5,6])\n",
    "arr2 = np.array([4,5,6,7,8,9])"
   ]
  },
  {
   "cell_type": "markdown",
   "id": "16245949",
   "metadata": {},
   "source": [
    "##### we can perfome Mathematical operaions - (add , sub , mul , delete) on two array's elements."
   ]
  },
  {
   "cell_type": "code",
   "execution_count": 4,
   "id": "d69d52d6",
   "metadata": {},
   "outputs": [
    {
     "data": {
      "text/plain": [
       "array([3, 3, 3, 3, 3, 3])"
      ]
     },
     "execution_count": 4,
     "metadata": {},
     "output_type": "execute_result"
    }
   ],
   "source": [
    "arr2-arr1"
   ]
  },
  {
   "cell_type": "code",
   "execution_count": 5,
   "id": "c7b6d823",
   "metadata": {},
   "outputs": [
    {
     "data": {
      "text/plain": [
       "array([ 5,  7,  9, 11, 13, 15])"
      ]
     },
     "execution_count": 5,
     "metadata": {},
     "output_type": "execute_result"
    }
   ],
   "source": [
    "arr2+arr1"
   ]
  },
  {
   "cell_type": "code",
   "execution_count": 6,
   "id": "01533875",
   "metadata": {},
   "outputs": [
    {
     "data": {
      "text/plain": [
       "array([ 4, 10, 18, 28, 40, 54])"
      ]
     },
     "execution_count": 6,
     "metadata": {},
     "output_type": "execute_result"
    }
   ],
   "source": [
    "arr1*arr2"
   ]
  },
  {
   "cell_type": "code",
   "execution_count": 9,
   "id": "e764d855",
   "metadata": {},
   "outputs": [
    {
     "data": {
      "text/plain": [
       "array([4.  , 2.5 , 2.  , 1.75, 1.6 , 1.5 ])"
      ]
     },
     "execution_count": 9,
     "metadata": {},
     "output_type": "execute_result"
    }
   ],
   "source": [
    "arr2/arr1"
   ]
  },
  {
   "cell_type": "code",
   "execution_count": 10,
   "id": "a9eac50b",
   "metadata": {},
   "outputs": [
    {
     "data": {
      "text/plain": [
       "array([ 6,  7,  8,  9, 10, 11])"
      ]
     },
     "execution_count": 10,
     "metadata": {},
     "output_type": "execute_result"
    }
   ],
   "source": [
    "arr1+5"
   ]
  },
  {
   "cell_type": "code",
   "execution_count": 11,
   "id": "5c266016",
   "metadata": {},
   "outputs": [
    {
     "data": {
      "text/plain": [
       "array([ 8, 10, 12, 14, 16, 18])"
      ]
     },
     "execution_count": 11,
     "metadata": {},
     "output_type": "execute_result"
    }
   ],
   "source": [
    "arr2*2"
   ]
  },
  {
   "cell_type": "code",
   "execution_count": 13,
   "id": "e41a041e",
   "metadata": {},
   "outputs": [
    {
     "data": {
      "text/plain": [
       "array([False, False, False,  True,  True,  True])"
      ]
     },
     "execution_count": 13,
     "metadata": {},
     "output_type": "execute_result"
    }
   ],
   "source": [
    "# conditions check\n",
    "arr2>6\n",
    "\n",
    "# false if less than 6 & True if greater than 6"
   ]
  },
  {
   "cell_type": "code",
   "execution_count": 14,
   "id": "410372c4",
   "metadata": {},
   "outputs": [
    {
     "data": {
      "text/plain": [
       "array([ True,  True,  True, False, False, False])"
      ]
     },
     "execution_count": 14,
     "metadata": {},
     "output_type": "execute_result"
    }
   ],
   "source": [
    "arr1<4"
   ]
  },
  {
   "cell_type": "markdown",
   "id": "7729da81",
   "metadata": {},
   "source": [
    "#### dot product in array(matric)"
   ]
  },
  {
   "cell_type": "code",
   "execution_count": 17,
   "id": "8d5a6e9e",
   "metadata": {},
   "outputs": [],
   "source": [
    "#create two matrics of 2x3 & 3x2 size.\n",
    "#so, final matric size are 2x2.\n",
    "\n",
    "arr3 = np.arange(6).reshape(2,3) \n",
    "arr4 = np.arange(6,12).reshape(3,2)"
   ]
  },
  {
   "cell_type": "code",
   "execution_count": 18,
   "id": "015fb724",
   "metadata": {},
   "outputs": [
    {
     "data": {
      "text/plain": [
       "array([[0, 1, 2],\n",
       "       [3, 4, 5]])"
      ]
     },
     "execution_count": 18,
     "metadata": {},
     "output_type": "execute_result"
    }
   ],
   "source": [
    "arr3"
   ]
  },
  {
   "cell_type": "code",
   "execution_count": 19,
   "id": "44be4fb9",
   "metadata": {},
   "outputs": [
    {
     "data": {
      "text/plain": [
       "array([[ 6,  7],\n",
       "       [ 8,  9],\n",
       "       [10, 11]])"
      ]
     },
     "execution_count": 19,
     "metadata": {},
     "output_type": "execute_result"
    }
   ],
   "source": [
    "arr4"
   ]
  },
  {
   "cell_type": "code",
   "execution_count": 20,
   "id": "ab51c857",
   "metadata": {},
   "outputs": [
    {
     "data": {
      "text/plain": [
       "array([[ 28,  31],\n",
       "       [100, 112]])"
      ]
     },
     "execution_count": 20,
     "metadata": {},
     "output_type": "execute_result"
    }
   ],
   "source": [
    "#perform dor product i.e a.b using dot() function\n",
    "arr3.dot(arr4)"
   ]
  },
  {
   "cell_type": "code",
   "execution_count": 21,
   "id": "4de69f85",
   "metadata": {},
   "outputs": [
    {
     "data": {
      "text/plain": [
       "154"
      ]
     },
     "execution_count": 21,
     "metadata": {},
     "output_type": "execute_result"
    }
   ],
   "source": [
    "arr1.dot(arr2)"
   ]
  },
  {
   "cell_type": "code",
   "execution_count": 23,
   "id": "adb8598a",
   "metadata": {},
   "outputs": [
    {
     "ename": "ValueError",
     "evalue": "shapes (6,) and (2,3) not aligned: 6 (dim 0) != 2 (dim 0)",
     "output_type": "error",
     "traceback": [
      "\u001b[1;31m---------------------------------------------------------------------------\u001b[0m",
      "\u001b[1;31mValueError\u001b[0m                                Traceback (most recent call last)",
      "Input \u001b[1;32mIn [23]\u001b[0m, in \u001b[0;36m<cell line: 1>\u001b[1;34m()\u001b[0m\n\u001b[1;32m----> 1\u001b[0m \u001b[43marr1\u001b[49m\u001b[38;5;241;43m.\u001b[39;49m\u001b[43mdot\u001b[49m\u001b[43m(\u001b[49m\u001b[43marr3\u001b[49m\u001b[43m)\u001b[49m\n",
      "\u001b[1;31mValueError\u001b[0m: shapes (6,) and (2,3) not aligned: 6 (dim 0) != 2 (dim 0)"
     ]
    }
   ],
   "source": [
    "arr1.dot(arr3)      # error bcoz matric size not equivalant"
   ]
  },
  {
   "cell_type": "markdown",
   "id": "31929fe6",
   "metadata": {},
   "source": [
    "#### to perform maximun , minimun , sort etc. on array"
   ]
  },
  {
   "cell_type": "code",
   "execution_count": 24,
   "id": "98e16b3a",
   "metadata": {},
   "outputs": [
    {
     "data": {
      "text/plain": [
       "11"
      ]
     },
     "execution_count": 24,
     "metadata": {},
     "output_type": "execute_result"
    }
   ],
   "source": [
    "arr4.max()"
   ]
  },
  {
   "cell_type": "code",
   "execution_count": 26,
   "id": "4d80c40a",
   "metadata": {},
   "outputs": [
    {
     "data": {
      "text/plain": [
       "6"
      ]
     },
     "execution_count": 26,
     "metadata": {},
     "output_type": "execute_result"
    }
   ],
   "source": [
    "arr4.min()"
   ]
  },
  {
   "cell_type": "code",
   "execution_count": 31,
   "id": "d85170df",
   "metadata": {},
   "outputs": [
    {
     "data": {
      "text/plain": [
       "array([0, 1, 2, 3, 5, 9])"
      ]
     },
     "execution_count": 31,
     "metadata": {},
     "output_type": "execute_result"
    }
   ],
   "source": [
    "arr5 = np.array([9,5,2,3,1,0])\n",
    "arr5.sort()\n",
    "arr5"
   ]
  },
  {
   "cell_type": "markdown",
   "id": "15e7c517",
   "metadata": {},
   "source": [
    "#### if we find row-wise or col-wise maxi,mini data"
   ]
  },
  {
   "cell_type": "code",
   "execution_count": 33,
   "id": "13291e29",
   "metadata": {},
   "outputs": [
    {
     "data": {
      "text/plain": [
       "array([[ 6,  7],\n",
       "       [ 8,  9],\n",
       "       [10, 11]])"
      ]
     },
     "execution_count": 33,
     "metadata": {},
     "output_type": "execute_result"
    }
   ],
   "source": [
    "arr4"
   ]
  },
  {
   "cell_type": "code",
   "execution_count": 35,
   "id": "71be740d",
   "metadata": {},
   "outputs": [
    {
     "data": {
      "text/plain": [
       "array([6, 7])"
      ]
     },
     "execution_count": 35,
     "metadata": {},
     "output_type": "execute_result"
    }
   ],
   "source": [
    "arr4.min(axis=0)     #axis=0 means fins col-wise max/min"
   ]
  },
  {
   "cell_type": "code",
   "execution_count": 36,
   "id": "d748e8af",
   "metadata": {},
   "outputs": [
    {
     "data": {
      "text/plain": [
       "array([10, 11])"
      ]
     },
     "execution_count": 36,
     "metadata": {},
     "output_type": "execute_result"
    }
   ],
   "source": [
    "arr4.max(axis=0)"
   ]
  },
  {
   "cell_type": "code",
   "execution_count": 37,
   "id": "3d94573a",
   "metadata": {},
   "outputs": [
    {
     "data": {
      "text/plain": [
       "array([ 7,  9, 11])"
      ]
     },
     "execution_count": 37,
     "metadata": {},
     "output_type": "execute_result"
    }
   ],
   "source": [
    "arr4.max(axis=1)     #axis=1 means fins row-wise max/min"
   ]
  },
  {
   "cell_type": "code",
   "execution_count": 39,
   "id": "287320cd",
   "metadata": {},
   "outputs": [
    {
     "data": {
      "text/plain": [
       "51"
      ]
     },
     "execution_count": 39,
     "metadata": {},
     "output_type": "execute_result"
    }
   ],
   "source": [
    "arr4.sum()          # sumof elements of whole array"
   ]
  },
  {
   "cell_type": "code",
   "execution_count": 40,
   "id": "2d21ceab",
   "metadata": {},
   "outputs": [
    {
     "data": {
      "text/plain": [
       "array([24, 27])"
      ]
     },
     "execution_count": 40,
     "metadata": {},
     "output_type": "execute_result"
    }
   ],
   "source": [
    "arr4.sum(axis=0)     #col-wise sum()"
   ]
  },
  {
   "cell_type": "code",
   "execution_count": 41,
   "id": "03279498",
   "metadata": {},
   "outputs": [
    {
     "data": {
      "text/plain": [
       "array([13, 17, 21])"
      ]
     },
     "execution_count": 41,
     "metadata": {},
     "output_type": "execute_result"
    }
   ],
   "source": [
    "arr4.sum(axis=1)     #row-wise sum()"
   ]
  },
  {
   "cell_type": "code",
   "execution_count": 42,
   "id": "3a36c650",
   "metadata": {},
   "outputs": [
    {
     "data": {
      "text/plain": [
       "8.5"
      ]
     },
     "execution_count": 42,
     "metadata": {},
     "output_type": "execute_result"
    }
   ],
   "source": [
    "arr4.mean()          # mean find"
   ]
  },
  {
   "cell_type": "code",
   "execution_count": 46,
   "id": "26fa8140",
   "metadata": {},
   "outputs": [
    {
     "data": {
      "text/plain": [
       "1.707825127659933"
      ]
     },
     "execution_count": 46,
     "metadata": {},
     "output_type": "execute_result"
    }
   ],
   "source": [
    "arr4.std()         #standard deviation"
   ]
  },
  {
   "cell_type": "code",
   "execution_count": 53,
   "id": "58afdaf8",
   "metadata": {},
   "outputs": [
    {
     "data": {
      "text/plain": [
       "8.5"
      ]
     },
     "execution_count": 53,
     "metadata": {},
     "output_type": "execute_result"
    }
   ],
   "source": [
    "np.median(arr4)      # to find median"
   ]
  },
  {
   "cell_type": "code",
   "execution_count": 50,
   "id": "9099e643",
   "metadata": {},
   "outputs": [
    {
     "data": {
      "text/plain": [
       "array([[-0.2794155 ,  0.6569866 ],\n",
       "       [ 0.98935825,  0.41211849],\n",
       "       [-0.54402111, -0.99999021]])"
      ]
     },
     "execution_count": 50,
     "metadata": {},
     "output_type": "execute_result"
    }
   ],
   "source": [
    "np.sin(arr4)       # sin thetha of every data"
   ]
  },
  {
   "cell_type": "code",
   "execution_count": 54,
   "id": "45a8b9b3",
   "metadata": {},
   "outputs": [
    {
     "data": {
      "text/plain": [
       "array([[ 0.96017029,  0.75390225],\n",
       "       [-0.14550003, -0.91113026],\n",
       "       [-0.83907153,  0.0044257 ]])"
      ]
     },
     "execution_count": 54,
     "metadata": {},
     "output_type": "execute_result"
    }
   ],
   "source": [
    "np.cos(arr4)"
   ]
  },
  {
   "cell_type": "code",
   "execution_count": 57,
   "id": "6ab0c9b9",
   "metadata": {},
   "outputs": [
    {
     "data": {
      "text/plain": [
       "array([[  403.42879349,  1096.63315843],\n",
       "       [ 2980.95798704,  8103.08392758],\n",
       "       [22026.46579481, 59874.1417152 ]])"
      ]
     },
     "execution_count": 57,
     "metadata": {},
     "output_type": "execute_result"
    }
   ],
   "source": [
    "np.exp(arr4)      # exponential"
   ]
  },
  {
   "cell_type": "code",
   "execution_count": 58,
   "id": "85d6de35",
   "metadata": {},
   "outputs": [
    {
     "data": {
      "text/plain": [
       "array([[1.79175947, 1.94591015],\n",
       "       [2.07944154, 2.19722458],\n",
       "       [2.30258509, 2.39789527]])"
      ]
     },
     "execution_count": 58,
     "metadata": {},
     "output_type": "execute_result"
    }
   ],
   "source": [
    "np.log(arr4)     # logs"
   ]
  },
  {
   "cell_type": "code",
   "execution_count": 59,
   "id": "43271795",
   "metadata": {},
   "outputs": [
    {
     "data": {
      "text/plain": [
       "array([[2.44948974, 2.64575131],\n",
       "       [2.82842712, 3.        ],\n",
       "       [3.16227766, 3.31662479]])"
      ]
     },
     "execution_count": 59,
     "metadata": {},
     "output_type": "execute_result"
    }
   ],
   "source": [
    "np.sqrt(arr4)    # square root"
   ]
  },
  {
   "cell_type": "code",
   "execution_count": null,
   "id": "c52c9226",
   "metadata": {},
   "outputs": [],
   "source": []
  }
 ],
 "metadata": {
  "kernelspec": {
   "display_name": "Python 3 (ipykernel)",
   "language": "python",
   "name": "python3"
  },
  "language_info": {
   "codemirror_mode": {
    "name": "ipython",
    "version": 3
   },
   "file_extension": ".py",
   "mimetype": "text/x-python",
   "name": "python",
   "nbconvert_exporter": "python",
   "pygments_lexer": "ipython3",
   "version": "3.9.12"
  }
 },
 "nbformat": 4,
 "nbformat_minor": 5
}
