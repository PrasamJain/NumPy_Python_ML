{
 "cells": [
  {
   "cell_type": "markdown",
   "id": "8e372491",
   "metadata": {},
   "source": [
    "# for creating numpy N-d Arrays import library"
   ]
  },
  {
   "cell_type": "code",
   "execution_count": 2,
   "id": "5ddc1c35",
   "metadata": {},
   "outputs": [],
   "source": [
    "import numpy as np"
   ]
  },
  {
   "cell_type": "markdown",
   "id": "0ae7794b",
   "metadata": {},
   "source": [
    "# Method 1:- np.array()\n",
    "# 1-D array"
   ]
  },
  {
   "cell_type": "code",
   "execution_count": 2,
   "id": "6bb8507b",
   "metadata": {},
   "outputs": [],
   "source": [
    "arr1 = np.array([1,2,3,4,5])       # passing 1-D list inside array"
   ]
  },
  {
   "cell_type": "code",
   "execution_count": 3,
   "id": "d61d09aa",
   "metadata": {},
   "outputs": [
    {
     "data": {
      "text/plain": [
       "array([1, 2, 3, 4, 5])"
      ]
     },
     "execution_count": 3,
     "metadata": {},
     "output_type": "execute_result"
    }
   ],
   "source": [
    "arr1"
   ]
  },
  {
   "cell_type": "code",
   "execution_count": 63,
   "id": "ecf1feb7",
   "metadata": {},
   "outputs": [
    {
     "data": {
      "text/plain": [
       "dtype('int32')"
      ]
     },
     "execution_count": 63,
     "metadata": {},
     "output_type": "execute_result"
    }
   ],
   "source": [
    "arr1.dtype"
   ]
  },
  {
   "cell_type": "code",
   "execution_count": 4,
   "id": "e4446eac",
   "metadata": {},
   "outputs": [],
   "source": [
    "arr2 = np.array([10 , \"prasam\", 15.5 , 20])     #homogenous"
   ]
  },
  {
   "cell_type": "code",
   "execution_count": 5,
   "id": "e712982d",
   "metadata": {},
   "outputs": [
    {
     "data": {
      "text/plain": [
       "array(['10', 'prasam', '15.5', '20'], dtype='<U32')"
      ]
     },
     "execution_count": 5,
     "metadata": {},
     "output_type": "execute_result"
    }
   ],
   "source": [
    "arr2"
   ]
  },
  {
   "cell_type": "code",
   "execution_count": 6,
   "id": "1b777916",
   "metadata": {},
   "outputs": [
    {
     "data": {
      "text/plain": [
       "numpy.ndarray"
      ]
     },
     "execution_count": 6,
     "metadata": {},
     "output_type": "execute_result"
    }
   ],
   "source": [
    "type(arr)"
   ]
  },
  {
   "cell_type": "code",
   "execution_count": 21,
   "id": "45c90c75",
   "metadata": {},
   "outputs": [
    {
     "data": {
      "text/plain": [
       "(4,)"
      ]
     },
     "execution_count": 21,
     "metadata": {},
     "output_type": "execute_result"
    }
   ],
   "source": [
    "np.shape(arr2)"
   ]
  },
  {
   "cell_type": "code",
   "execution_count": 64,
   "id": "cb97dc3a",
   "metadata": {},
   "outputs": [
    {
     "data": {
      "text/plain": [
       "dtype('<U32')"
      ]
     },
     "execution_count": 64,
     "metadata": {},
     "output_type": "execute_result"
    }
   ],
   "source": [
    "arr2.dtype"
   ]
  },
  {
   "cell_type": "markdown",
   "id": "174905d7",
   "metadata": {},
   "source": [
    "# 2-D array by passing 2D list"
   ]
  },
  {
   "cell_type": "code",
   "execution_count": 17,
   "id": "b57fd45c",
   "metadata": {},
   "outputs": [],
   "source": [
    "arr3 = np.array([[1,2,3,4],[5,6,7,8]])"
   ]
  },
  {
   "cell_type": "code",
   "execution_count": 18,
   "id": "96f5bb62",
   "metadata": {},
   "outputs": [
    {
     "data": {
      "text/plain": [
       "array([[1, 2, 3, 4],\n",
       "       [5, 6, 7, 8]])"
      ]
     },
     "execution_count": 18,
     "metadata": {},
     "output_type": "execute_result"
    }
   ],
   "source": [
    "arr3"
   ]
  },
  {
   "cell_type": "code",
   "execution_count": 19,
   "id": "2fc272aa",
   "metadata": {},
   "outputs": [
    {
     "data": {
      "text/plain": [
       "numpy.ndarray"
      ]
     },
     "execution_count": 19,
     "metadata": {},
     "output_type": "execute_result"
    }
   ],
   "source": [
    "type(arr3)"
   ]
  },
  {
   "cell_type": "code",
   "execution_count": 23,
   "id": "5557896f",
   "metadata": {},
   "outputs": [
    {
     "data": {
      "text/plain": [
       "(2, 4)"
      ]
     },
     "execution_count": 23,
     "metadata": {},
     "output_type": "execute_result"
    }
   ],
   "source": [
    "np.shape(arr3)     #2,4 matrics"
   ]
  },
  {
   "cell_type": "code",
   "execution_count": 65,
   "id": "9d3df88f",
   "metadata": {},
   "outputs": [
    {
     "data": {
      "text/plain": [
       "dtype('int32')"
      ]
     },
     "execution_count": 65,
     "metadata": {},
     "output_type": "execute_result"
    }
   ],
   "source": [
    "arr3.dtype"
   ]
  },
  {
   "cell_type": "markdown",
   "id": "85f85a2a",
   "metadata": {},
   "source": [
    "# 3D array "
   ]
  },
  {
   "cell_type": "code",
   "execution_count": 108,
   "id": "8dec594d",
   "metadata": {},
   "outputs": [
    {
     "data": {
      "text/plain": [
       "array([[[1, 2],\n",
       "        [3, 4]],\n",
       "\n",
       "       [[5, 6],\n",
       "        [7, 8]]])"
      ]
     },
     "execution_count": 108,
     "metadata": {},
     "output_type": "execute_result"
    }
   ],
   "source": [
    "arr3 = np.array([[[1,2],[3,4]],[[5,6],[7,8]]])\n",
    "arr3"
   ]
  },
  {
   "cell_type": "code",
   "execution_count": 109,
   "id": "ac009355",
   "metadata": {},
   "outputs": [
    {
     "data": {
      "text/plain": [
       "(2, 2, 2)"
      ]
     },
     "execution_count": 109,
     "metadata": {},
     "output_type": "execute_result"
    }
   ],
   "source": [
    "arr3.shape\n",
    "# np.shape(arr3)"
   ]
  },
  {
   "cell_type": "code",
   "execution_count": 114,
   "id": "8804f980",
   "metadata": {},
   "outputs": [
    {
     "data": {
      "text/plain": [
       "array([[[1, 2, 4],\n",
       "        [3, 4, 3]],\n",
       "\n",
       "       [[2, 5, 6],\n",
       "        [2, 7, 8]],\n",
       "\n",
       "       [[4, 4, 6],\n",
       "        [8, 2, 9]],\n",
       "\n",
       "       [[4, 4, 6],\n",
       "        [8, 2, 9]]])"
      ]
     },
     "execution_count": 114,
     "metadata": {},
     "output_type": "execute_result"
    }
   ],
   "source": [
    "arr3 = np.array([[[1,2,4],[3,4,3]] , [[2,5,6],[2,7,8]] , [[4,4,6],[8,2,9]] , [[4,4,6],[8,2,9]]])\n",
    "arr3"
   ]
  },
  {
   "cell_type": "code",
   "execution_count": 115,
   "id": "a41cffa6",
   "metadata": {},
   "outputs": [
    {
     "data": {
      "text/plain": [
       "(4, 2, 3)"
      ]
     },
     "execution_count": 115,
     "metadata": {},
     "output_type": "execute_result"
    }
   ],
   "source": [
    "np.shape(arr3)"
   ]
  },
  {
   "cell_type": "code",
   "execution_count": null,
   "id": "50da8ad1",
   "metadata": {},
   "outputs": [],
   "source": [
    "# above matrics is 3D : (3, 2, 2) - 2 row , 3 col , 4 matrics of 2,3"
   ]
  },
  {
   "cell_type": "markdown",
   "id": "e3d9dbf8",
   "metadata": {},
   "source": [
    "# Method 2:- np.zeros() / ones() / empty () / random()"
   ]
  },
  {
   "cell_type": "code",
   "execution_count": 24,
   "id": "afeca3f2",
   "metadata": {},
   "outputs": [],
   "source": [
    "arr4 = np.zeros((2,3))   #passing tuple inside zeros( (tuple) )"
   ]
  },
  {
   "cell_type": "code",
   "execution_count": 25,
   "id": "db9b9718",
   "metadata": {},
   "outputs": [
    {
     "data": {
      "text/plain": [
       "array([[0., 0., 0.],\n",
       "       [0., 0., 0.]])"
      ]
     },
     "execution_count": 25,
     "metadata": {},
     "output_type": "execute_result"
    }
   ],
   "source": [
    "arr4    # it create array of all elements 0"
   ]
  },
  {
   "cell_type": "code",
   "execution_count": 38,
   "id": "1a31b332",
   "metadata": {},
   "outputs": [
    {
     "data": {
      "text/plain": [
       "array([[1., 1., 1.],\n",
       "       [1., 1., 1.],\n",
       "       [1., 1., 1.]])"
      ]
     },
     "execution_count": 38,
     "metadata": {},
     "output_type": "execute_result"
    }
   ],
   "source": [
    "arr5 = np.ones((3,3))    # it create array of all elements 1\n",
    "arr5"
   ]
  },
  {
   "cell_type": "code",
   "execution_count": 39,
   "id": "814bce72",
   "metadata": {},
   "outputs": [
    {
     "data": {
      "text/plain": [
       "numpy.ndarray"
      ]
     },
     "execution_count": 39,
     "metadata": {},
     "output_type": "execute_result"
    }
   ],
   "source": [
    "type(arr5)"
   ]
  },
  {
   "cell_type": "code",
   "execution_count": 36,
   "id": "e260a87b",
   "metadata": {},
   "outputs": [
    {
     "data": {
      "text/plain": [
       "(2, 3)"
      ]
     },
     "execution_count": 36,
     "metadata": {},
     "output_type": "execute_result"
    }
   ],
   "source": [
    "np.shape(arr4)"
   ]
  },
  {
   "cell_type": "code",
   "execution_count": 37,
   "id": "2cbe921f",
   "metadata": {},
   "outputs": [
    {
     "data": {
      "text/plain": [
       "(3, 3)"
      ]
     },
     "execution_count": 37,
     "metadata": {},
     "output_type": "execute_result"
    }
   ],
   "source": [
    "np.shape(arr5)"
   ]
  },
  {
   "cell_type": "code",
   "execution_count": 66,
   "id": "16507ed3",
   "metadata": {},
   "outputs": [
    {
     "data": {
      "text/plain": [
       "dtype('float64')"
      ]
     },
     "execution_count": 66,
     "metadata": {},
     "output_type": "execute_result"
    }
   ],
   "source": [
    "arr5.dtype"
   ]
  },
  {
   "cell_type": "code",
   "execution_count": 58,
   "id": "b6522bcf",
   "metadata": {},
   "outputs": [
    {
     "data": {
      "text/plain": [
       "array([[6.23042070e-307, 4.67296746e-307],\n",
       "       [1.69121096e-306, 1.03503541e-311]])"
      ]
     },
     "execution_count": 58,
     "metadata": {},
     "output_type": "execute_result"
    }
   ],
   "source": [
    "arr6 = np.empty((2,2))    # create a new array of given size with random values\n",
    "arr6"
   ]
  },
  {
   "cell_type": "code",
   "execution_count": 57,
   "id": "994863f4",
   "metadata": {},
   "outputs": [
    {
     "data": {
      "text/plain": [
       "array([[0.96226839, 0.94205699, 0.08002436],\n",
       "       [0.84898286, 0.78222149, 0.13502257]])"
      ]
     },
     "execution_count": 57,
     "metadata": {},
     "output_type": "execute_result"
    }
   ],
   "source": [
    "arr7 = np.random.random((2,3))    # random values changed every time.\n",
    "arr7"
   ]
  },
  {
   "cell_type": "code",
   "execution_count": null,
   "id": "88002623",
   "metadata": {},
   "outputs": [],
   "source": [
    "# np.empty() values are random generate and it can't be changed but np.random() values changed everytime whenever we run code."
   ]
  },
  {
   "cell_type": "markdown",
   "id": "e3fa834a",
   "metadata": {},
   "source": [
    "# Method 3:- Using np.arange()"
   ]
  },
  {
   "cell_type": "code",
   "execution_count": 69,
   "id": "47c46c17",
   "metadata": {},
   "outputs": [
    {
     "data": {
      "text/plain": [
       "array([0, 1, 2, 3, 4, 5, 6, 7, 8, 9])"
      ]
     },
     "execution_count": 69,
     "metadata": {},
     "output_type": "execute_result"
    }
   ],
   "source": [
    "arr8 = np.arange(10)   # gives elements starting from 0 to n\n",
    "arr8"
   ]
  },
  {
   "cell_type": "code",
   "execution_count": 70,
   "id": "c2d42140",
   "metadata": {},
   "outputs": [
    {
     "data": {
      "text/plain": [
       "array([ 5,  6,  7,  8,  9, 10, 11, 12, 13, 14, 15])"
      ]
     },
     "execution_count": 70,
     "metadata": {},
     "output_type": "execute_result"
    }
   ],
   "source": [
    "# if we create 5 to 15 elements using arange()\n",
    "\n",
    "arr8 = np.arange(5,16)\n",
    "arr8"
   ]
  },
  {
   "cell_type": "code",
   "execution_count": 72,
   "id": "3d888bd0",
   "metadata": {},
   "outputs": [
    {
     "data": {
      "text/plain": [
       "array([ 5,  7,  9, 11, 13])"
      ]
     },
     "execution_count": 72,
     "metadata": {},
     "output_type": "execute_result"
    }
   ],
   "source": [
    "# if we create 5 to 15 elements with gap of 2 i.e 5, 7, 9, .......\n",
    "\n",
    "arr8 = np.arange(5 , 15 , 2)         # systax : (start , end , gap_interval)\n",
    "arr8"
   ]
  },
  {
   "cell_type": "code",
   "execution_count": 73,
   "id": "f5815128",
   "metadata": {},
   "outputs": [
    {
     "data": {
      "text/plain": [
       "dtype('int32')"
      ]
     },
     "execution_count": 73,
     "metadata": {},
     "output_type": "execute_result"
    }
   ],
   "source": [
    "arr8.dtype"
   ]
  },
  {
   "cell_type": "code",
   "execution_count": 74,
   "id": "5529cce9",
   "metadata": {},
   "outputs": [
    {
     "data": {
      "text/plain": [
       "(5,)"
      ]
     },
     "execution_count": 74,
     "metadata": {},
     "output_type": "execute_result"
    }
   ],
   "source": [
    "np.shape(arr8)"
   ]
  },
  {
   "cell_type": "markdown",
   "id": "7ae7f6cf",
   "metadata": {},
   "source": [
    "# Method 4:- Using np.linspace()"
   ]
  },
  {
   "cell_type": "code",
   "execution_count": 76,
   "id": "7f054db8",
   "metadata": {},
   "outputs": [
    {
     "data": {
      "text/plain": [
       "array([10.        , 11.11111111, 12.22222222, 13.33333333, 14.44444444,\n",
       "       15.55555556, 16.66666667, 17.77777778, 18.88888889, 20.        ])"
      ]
     },
     "execution_count": 76,
     "metadata": {},
     "output_type": "execute_result"
    }
   ],
   "source": [
    "# syntax : (lower , upper , number of items in between start-end with equal difference)\n",
    "arr9 = np.linspace(10 , 20 , 10)\n",
    "arr9"
   ]
  },
  {
   "cell_type": "code",
   "execution_count": 88,
   "id": "358e4a59",
   "metadata": {},
   "outputs": [
    {
     "data": {
      "text/plain": [
       "array([ 0.,  2.,  4.,  6.,  8., 10.])"
      ]
     },
     "execution_count": 88,
     "metadata": {},
     "output_type": "execute_result"
    }
   ],
   "source": [
    "arr9 = np.linspace(0,10,6)     # 6 numbers of equi-distance\n",
    "arr9"
   ]
  },
  {
   "cell_type": "code",
   "execution_count": 89,
   "id": "fe98fff7",
   "metadata": {},
   "outputs": [
    {
     "data": {
      "text/plain": [
       "dtype('float64')"
      ]
     },
     "execution_count": 89,
     "metadata": {},
     "output_type": "execute_result"
    }
   ],
   "source": [
    "arr9.dtype"
   ]
  },
  {
   "cell_type": "code",
   "execution_count": 91,
   "id": "df97b6db",
   "metadata": {},
   "outputs": [
    {
     "data": {
      "text/plain": [
       "(6,)"
      ]
     },
     "execution_count": 91,
     "metadata": {},
     "output_type": "execute_result"
    }
   ],
   "source": [
    "np.shape(arr9)"
   ]
  },
  {
   "cell_type": "markdown",
   "id": "1711a563",
   "metadata": {},
   "source": [
    "# we have copy() function also to copy any numpy array as it is."
   ]
  },
  {
   "cell_type": "code",
   "execution_count": 93,
   "id": "475afd79",
   "metadata": {},
   "outputs": [
    {
     "data": {
      "text/plain": [
       "array([ 0.,  2.,  4.,  6.,  8., 10.])"
      ]
     },
     "execution_count": 93,
     "metadata": {},
     "output_type": "execute_result"
    }
   ],
   "source": [
    "arr10 = arr9.copy()\n",
    "arr10"
   ]
  },
  {
   "cell_type": "code",
   "execution_count": 94,
   "id": "448c3729",
   "metadata": {},
   "outputs": [
    {
     "data": {
      "text/plain": [
       "(6,)"
      ]
     },
     "execution_count": 94,
     "metadata": {},
     "output_type": "execute_result"
    }
   ],
   "source": [
    "np.shape(arr10)   #same as arr9"
   ]
  },
  {
   "cell_type": "code",
   "execution_count": null,
   "id": "a413d34f",
   "metadata": {},
   "outputs": [],
   "source": []
  },
  {
   "cell_type": "markdown",
   "id": "cf1293f2",
   "metadata": {},
   "source": [
    "# Identity Matrics using np.identity()"
   ]
  },
  {
   "cell_type": "code",
   "execution_count": 3,
   "id": "bed74c87",
   "metadata": {},
   "outputs": [
    {
     "data": {
      "text/plain": [
       "array([[1., 0., 0., 0., 0.],\n",
       "       [0., 1., 0., 0., 0.],\n",
       "       [0., 0., 1., 0., 0.],\n",
       "       [0., 0., 0., 1., 0.],\n",
       "       [0., 0., 0., 0., 1.]])"
      ]
     },
     "execution_count": 3,
     "metadata": {},
     "output_type": "execute_result"
    }
   ],
   "source": [
    "arr11 = np.identity(5)    # passing size inside function\n",
    "arr11"
   ]
  },
  {
   "cell_type": "code",
   "execution_count": 4,
   "id": "8b395c4c",
   "metadata": {},
   "outputs": [
    {
     "data": {
      "text/plain": [
       "(5, 5)"
      ]
     },
     "execution_count": 4,
     "metadata": {},
     "output_type": "execute_result"
    }
   ],
   "source": [
    "np.shape(arr11)"
   ]
  },
  {
   "cell_type": "code",
   "execution_count": 5,
   "id": "a33930a2",
   "metadata": {},
   "outputs": [
    {
     "data": {
      "text/plain": [
       "numpy.ndarray"
      ]
     },
     "execution_count": 5,
     "metadata": {},
     "output_type": "execute_result"
    }
   ],
   "source": [
    "type(arr11)"
   ]
  },
  {
   "cell_type": "code",
   "execution_count": 6,
   "id": "472573d8",
   "metadata": {},
   "outputs": [
    {
     "data": {
      "text/plain": [
       "dtype('float64')"
      ]
     },
     "execution_count": 6,
     "metadata": {},
     "output_type": "execute_result"
    }
   ],
   "source": [
    "arr11.dtype"
   ]
  },
  {
   "cell_type": "code",
   "execution_count": 7,
   "id": "c6f0ee2e",
   "metadata": {},
   "outputs": [
    {
     "data": {
      "text/plain": [
       "2"
      ]
     },
     "execution_count": 7,
     "metadata": {},
     "output_type": "execute_result"
    }
   ],
   "source": [
    "arr11.ndim"
   ]
  },
  {
   "cell_type": "code",
   "execution_count": null,
   "id": "6efef047",
   "metadata": {},
   "outputs": [],
   "source": []
  }
 ],
 "metadata": {
  "kernelspec": {
   "display_name": "Python 3 (ipykernel)",
   "language": "python",
   "name": "python3"
  },
  "language_info": {
   "codemirror_mode": {
    "name": "ipython",
    "version": 3
   },
   "file_extension": ".py",
   "mimetype": "text/x-python",
   "name": "python",
   "nbconvert_exporter": "python",
   "pygments_lexer": "ipython3",
   "version": "3.9.12"
  }
 },
 "nbformat": 4,
 "nbformat_minor": 5
}
