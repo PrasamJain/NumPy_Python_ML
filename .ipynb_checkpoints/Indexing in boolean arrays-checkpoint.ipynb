{
 "cells": [
  {
   "cell_type": "code",
   "execution_count": 1,
   "id": "56a7a31f",
   "metadata": {},
   "outputs": [],
   "source": [
    "import numpy as np"
   ]
  },
  {
   "cell_type": "markdown",
   "id": "6475675c",
   "metadata": {},
   "source": [
    "### it generates the random array using \"randint()\", we pass lower,higher values and size of array"
   ]
  },
  {
   "cell_type": "code",
   "execution_count": 63,
   "id": "ee9fef9f",
   "metadata": {},
   "outputs": [
    {
     "data": {
      "text/plain": [
       "array([[89, 36, 81, 79, 77],\n",
       "       [50, 24, 78, 49,  4],\n",
       "       [51, 16, 16, 16, 28],\n",
       "       [63, 23,  6, 11,  9]])"
      ]
     },
     "execution_count": 63,
     "metadata": {},
     "output_type": "execute_result"
    }
   ],
   "source": [
    "arr1 = np.random.randint(low=1,high=100,size=20).reshape(4,5)\n",
    "arr1"
   ]
  },
  {
   "cell_type": "markdown",
   "id": "cb69b6ab",
   "metadata": {},
   "source": [
    "### conditional indexing"
   ]
  },
  {
   "cell_type": "code",
   "execution_count": 64,
   "id": "dba06574",
   "metadata": {},
   "outputs": [
    {
     "data": {
      "text/plain": [
       "array([[ True, False,  True,  True,  True],\n",
       "       [False, False,  True, False, False],\n",
       "       [ True, False, False, False, False],\n",
       "       [ True, False, False, False, False]])"
      ]
     },
     "execution_count": 64,
     "metadata": {},
     "output_type": "execute_result"
    }
   ],
   "source": [
    "# Q. we only fetch those elements who is greater than 50\n",
    "\n",
    "arr1>50    \n",
    "\n",
    "#every elements compared with 50 & return boolean array"
   ]
  },
  {
   "cell_type": "code",
   "execution_count": 65,
   "id": "414a2952",
   "metadata": {},
   "outputs": [
    {
     "data": {
      "text/plain": [
       "array([89, 81, 79, 77, 78, 51, 63])"
      ]
     },
     "execution_count": 65,
     "metadata": {},
     "output_type": "execute_result"
    }
   ],
   "source": [
    "# if you wants data then\n",
    "\n",
    "arr1[arr1>50]\n",
    "\n",
    "# this is called indexing using boolean array or some times its called \"filtering\"."
   ]
  },
  {
   "cell_type": "code",
   "execution_count": 66,
   "id": "07e9aeb3",
   "metadata": {},
   "outputs": [
    {
     "data": {
      "text/plain": [
       "array([89, 81, 79, 77, 51, 63])"
      ]
     },
     "execution_count": 66,
     "metadata": {},
     "output_type": "execute_result"
    }
   ],
   "source": [
    "# Q. fatch data greater than 50 and ODD number.\n",
    "\n",
    "arr1[(arr1>50)&(arr1%2!=0)]      # we don't write 'and' instead we write '&' (ampercent) "
   ]
  },
  {
   "cell_type": "code",
   "execution_count": 67,
   "id": "8c3f61e0",
   "metadata": {},
   "outputs": [
    {
     "data": {
      "text/plain": [
       "array([78])"
      ]
     },
     "execution_count": 67,
     "metadata": {},
     "output_type": "execute_result"
    }
   ],
   "source": [
    "# Q. fatch data greater than 50 and EVEN number.\n",
    "\n",
    "arr1[(arr1>50)&(arr1%2==0)]"
   ]
  },
  {
   "cell_type": "code",
   "execution_count": 68,
   "id": "61625dc9",
   "metadata": {},
   "outputs": [
    {
     "data": {
      "text/plain": [
       "array([[89, 36, 81, 79, 77],\n",
       "       [50, 24,  0, 49,  4],\n",
       "       [51, 16, 16, 16, 28],\n",
       "       [63, 23,  6, 11,  9]])"
      ]
     },
     "execution_count": 68,
     "metadata": {},
     "output_type": "execute_result"
    }
   ],
   "source": [
    "# Q. make all elements 0 which is greater than 50 and EVEN number.\n",
    "\n",
    "arr2 = arr1.copy()\n",
    "arr2[(arr1>50)&(arr1%2==0)] = 0\n",
    "arr2"
   ]
  },
  {
   "cell_type": "code",
   "execution_count": 72,
   "id": "8d194697",
   "metadata": {},
   "outputs": [
    {
     "data": {
      "text/plain": [
       "array([ 0,  1,  2,  3,  4,  5,  6,  7,  8,  9, 10, 11, 12, 13, 14, 15, 16,\n",
       "       17, 18, 19, 20, 21, 22, 23, 24, 25, 26, 27, 28, 29, 30, 31, 32, 33,\n",
       "       34, 35, 36, 37, 38, 39, 40, 41, 42, 43, 44, 45, 46, 47, 48, 49, 50,\n",
       "       51, 52, 53, 54, 55, 56, 57, 58, 59, 60, 61, 62, 63, 64, 65, 66, 67,\n",
       "       68, 69, 70, 71, 72, 73, 74, 75, 76, 77, 78, 79, 80, 81, 82, 83, 84,\n",
       "       85, 86, 87, 88, 89, 90, 91, 92, 93, 94, 95, 96, 97, 98, 99])"
      ]
     },
     "execution_count": 72,
     "metadata": {},
     "output_type": "execute_result"
    }
   ],
   "source": [
    "arr3 = np.arange(100)\n",
    "arr3"
   ]
  },
  {
   "cell_type": "code",
   "execution_count": 121,
   "id": "5301066c",
   "metadata": {},
   "outputs": [
    {
     "name": "stdout",
     "output_type": "stream",
     "text": [
      "0\n",
      "2\n",
      "3\n",
      "5\n",
      "7\n",
      "11\n",
      "13\n",
      "17\n",
      "19\n",
      "23\n",
      "29\n",
      "31\n",
      "37\n",
      "41\n",
      "43\n",
      "47\n",
      "53\n",
      "59\n",
      "61\n",
      "67\n",
      "71\n",
      "73\n",
      "79\n",
      "83\n",
      "89\n",
      "97\n"
     ]
    }
   ],
   "source": [
    "# Q. Find Prime number.\n",
    "\n",
    "def funt(x):\n",
    "    count=0\n",
    "    for i in range(2,(x//2+1)):\n",
    "        if(x%i == 0):\n",
    "            count = count+1\n",
    "            break\n",
    "    if(count == 0 and x != 1):\n",
    "        print(x)\n",
    "\n",
    "for i in arr3:\n",
    "    funt(i)"
   ]
  },
  {
   "cell_type": "code",
   "execution_count": null,
   "id": "e017ed5a",
   "metadata": {},
   "outputs": [],
   "source": []
  }
 ],
 "metadata": {
  "kernelspec": {
   "display_name": "Python 3 (ipykernel)",
   "language": "python",
   "name": "python3"
  },
  "language_info": {
   "codemirror_mode": {
    "name": "ipython",
    "version": 3
   },
   "file_extension": ".py",
   "mimetype": "text/x-python",
   "name": "python",
   "nbconvert_exporter": "python",
   "pygments_lexer": "ipython3",
   "version": "3.9.12"
  }
 },
 "nbformat": 4,
 "nbformat_minor": 5
}
