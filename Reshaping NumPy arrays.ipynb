{
 "cells": [
  {
   "cell_type": "code",
   "execution_count": 1,
   "id": "ac091767",
   "metadata": {},
   "outputs": [],
   "source": [
    "import numpy as np"
   ]
  },
  {
   "cell_type": "markdown",
   "id": "37174d3b",
   "metadata": {},
   "source": [
    "### we Reshape the array using 5 ways :\n",
    "#### Ravel\n",
    "#### Reshape\n",
    "#### Transpose\n",
    "#### Stacking\n",
    "#### Splitting"
   ]
  },
  {
   "cell_type": "markdown",
   "id": "01f272b9",
   "metadata": {},
   "source": [
    "### Reshape() "
   ]
  },
  {
   "cell_type": "code",
   "execution_count": 5,
   "id": "d9d230f7",
   "metadata": {},
   "outputs": [
    {
     "data": {
      "text/plain": [
       "array([[ 0,  1,  2,  3],\n",
       "       [ 4,  5,  6,  7],\n",
       "       [ 8,  9, 10, 11],\n",
       "       [12, 13, 14, 15],\n",
       "       [16, 17, 18, 19],\n",
       "       [20, 21, 22, 23]])"
      ]
     },
     "execution_count": 5,
     "metadata": {},
     "output_type": "execute_result"
    }
   ],
   "source": [
    "arr1 = np.arange(24).reshape(6,4)\n",
    "arr1"
   ]
  },
  {
   "cell_type": "code",
   "execution_count": 8,
   "id": "2fb24f0d",
   "metadata": {},
   "outputs": [
    {
     "data": {
      "text/plain": [
       "2"
      ]
     },
     "execution_count": 8,
     "metadata": {},
     "output_type": "execute_result"
    }
   ],
   "source": [
    "arr1.ndim    # it has 2D array"
   ]
  },
  {
   "cell_type": "markdown",
   "id": "5083e7cc",
   "metadata": {},
   "source": [
    "### Ravle() - It convert higher Dimension array to 1-D array"
   ]
  },
  {
   "cell_type": "code",
   "execution_count": 10,
   "id": "13861a84",
   "metadata": {},
   "outputs": [
    {
     "data": {
      "text/plain": [
       "array([ 0,  1,  2,  3,  4,  5,  6,  7,  8,  9, 10, 11, 12, 13, 14, 15, 16,\n",
       "       17, 18, 19, 20, 21, 22, 23])"
      ]
     },
     "execution_count": 10,
     "metadata": {},
     "output_type": "execute_result"
    }
   ],
   "source": [
    "arr1.ravel()    # convert 2D into 1D"
   ]
  },
  {
   "cell_type": "markdown",
   "id": "2eb8b0f9",
   "metadata": {},
   "source": [
    "### Transpose() : change row <-> col"
   ]
  },
  {
   "cell_type": "code",
   "execution_count": 11,
   "id": "7acf371e",
   "metadata": {},
   "outputs": [
    {
     "data": {
      "text/plain": [
       "array([[ 0,  4,  8, 12, 16, 20],\n",
       "       [ 1,  5,  9, 13, 17, 21],\n",
       "       [ 2,  6, 10, 14, 18, 22],\n",
       "       [ 3,  7, 11, 15, 19, 23]])"
      ]
     },
     "execution_count": 11,
     "metadata": {},
     "output_type": "execute_result"
    }
   ],
   "source": [
    "arr1.transpose()"
   ]
  },
  {
   "cell_type": "markdown",
   "id": "c56bfa6b",
   "metadata": {},
   "source": [
    "### Stacking() : Use to combine two matrics of same size\n",
    "#### it has two functions - hstack()  & vstack()"
   ]
  },
  {
   "cell_type": "code",
   "execution_count": 12,
   "id": "35709118",
   "metadata": {},
   "outputs": [
    {
     "data": {
      "text/plain": [
       "array([[ 0,  1,  2,  3],\n",
       "       [ 4,  5,  6,  7],\n",
       "       [ 8,  9, 10, 11],\n",
       "       [12, 13, 14, 15],\n",
       "       [16, 17, 18, 19],\n",
       "       [20, 21, 22, 23]])"
      ]
     },
     "execution_count": 12,
     "metadata": {},
     "output_type": "execute_result"
    }
   ],
   "source": [
    "arr1"
   ]
  },
  {
   "cell_type": "code",
   "execution_count": 26,
   "id": "0182fcbb",
   "metadata": {},
   "outputs": [
    {
     "data": {
      "text/plain": [
       "array([[24, 25, 26, 27],\n",
       "       [28, 29, 30, 31],\n",
       "       [32, 33, 34, 35],\n",
       "       [36, 37, 38, 39],\n",
       "       [40, 41, 42, 43],\n",
       "       [44, 45, 46, 47]])"
      ]
     },
     "execution_count": 26,
     "metadata": {},
     "output_type": "execute_result"
    }
   ],
   "source": [
    "arr2 = np.arange(24,48).reshape(6,4)\n",
    "arr2"
   ]
  },
  {
   "cell_type": "code",
   "execution_count": 27,
   "id": "c5dde1b0",
   "metadata": {},
   "outputs": [
    {
     "data": {
      "text/plain": [
       "array([[ 0,  1,  2,  3, 24, 25, 26, 27],\n",
       "       [ 4,  5,  6,  7, 28, 29, 30, 31],\n",
       "       [ 8,  9, 10, 11, 32, 33, 34, 35],\n",
       "       [12, 13, 14, 15, 36, 37, 38, 39],\n",
       "       [16, 17, 18, 19, 40, 41, 42, 43],\n",
       "       [20, 21, 22, 23, 44, 45, 46, 47]])"
      ]
     },
     "execution_count": 27,
     "metadata": {},
     "output_type": "execute_result"
    }
   ],
   "source": [
    "arr3 = np.hstack((arr1,arr2))      #join horizontly two arrays\n",
    "arr3"
   ]
  },
  {
   "cell_type": "code",
   "execution_count": 28,
   "id": "7b26cfd4",
   "metadata": {},
   "outputs": [
    {
     "data": {
      "text/plain": [
       "array([[ 0,  1,  2,  3],\n",
       "       [ 4,  5,  6,  7],\n",
       "       [ 8,  9, 10, 11],\n",
       "       [12, 13, 14, 15],\n",
       "       [16, 17, 18, 19],\n",
       "       [20, 21, 22, 23],\n",
       "       [24, 25, 26, 27],\n",
       "       [28, 29, 30, 31],\n",
       "       [32, 33, 34, 35],\n",
       "       [36, 37, 38, 39],\n",
       "       [40, 41, 42, 43],\n",
       "       [44, 45, 46, 47]])"
      ]
     },
     "execution_count": 28,
     "metadata": {},
     "output_type": "execute_result"
    }
   ],
   "source": [
    "arr3 = np.vstack((arr1,arr2))      #join verticaly two arrays\n",
    "arr3"
   ]
  },
  {
   "cell_type": "markdown",
   "id": "779e4fcf",
   "metadata": {},
   "source": [
    "### Splitting() : split one array into two\n",
    "#### hsplit()  &  vsplit()"
   ]
  },
  {
   "cell_type": "code",
   "execution_count": 30,
   "id": "a13000eb",
   "metadata": {},
   "outputs": [
    {
     "data": {
      "text/plain": [
       "[array([[ 0],\n",
       "        [ 4],\n",
       "        [ 8],\n",
       "        [12],\n",
       "        [16],\n",
       "        [20],\n",
       "        [24],\n",
       "        [28],\n",
       "        [32],\n",
       "        [36],\n",
       "        [40],\n",
       "        [44]]),\n",
       " array([[ 1],\n",
       "        [ 5],\n",
       "        [ 9],\n",
       "        [13],\n",
       "        [17],\n",
       "        [21],\n",
       "        [25],\n",
       "        [29],\n",
       "        [33],\n",
       "        [37],\n",
       "        [41],\n",
       "        [45]]),\n",
       " array([[ 2],\n",
       "        [ 6],\n",
       "        [10],\n",
       "        [14],\n",
       "        [18],\n",
       "        [22],\n",
       "        [26],\n",
       "        [30],\n",
       "        [34],\n",
       "        [38],\n",
       "        [42],\n",
       "        [46]]),\n",
       " array([[ 3],\n",
       "        [ 7],\n",
       "        [11],\n",
       "        [15],\n",
       "        [19],\n",
       "        [23],\n",
       "        [27],\n",
       "        [31],\n",
       "        [35],\n",
       "        [39],\n",
       "        [43],\n",
       "        [47]])]"
      ]
     },
     "execution_count": 30,
     "metadata": {},
     "output_type": "execute_result"
    }
   ],
   "source": [
    "np.hsplit(arr3,4)     # we pass the total no. of cols to split into it   # make 4 arrays of equal size"
   ]
  },
  {
   "cell_type": "code",
   "execution_count": 42,
   "id": "30e5098e",
   "metadata": {},
   "outputs": [
    {
     "data": {
      "text/plain": [
       "[array([[ 0,  1],\n",
       "        [ 4,  5],\n",
       "        [ 8,  9],\n",
       "        [12, 13],\n",
       "        [16, 17],\n",
       "        [20, 21],\n",
       "        [24, 25],\n",
       "        [28, 29],\n",
       "        [32, 33],\n",
       "        [36, 37],\n",
       "        [40, 41],\n",
       "        [44, 45]]),\n",
       " array([[ 2,  3],\n",
       "        [ 6,  7],\n",
       "        [10, 11],\n",
       "        [14, 15],\n",
       "        [18, 19],\n",
       "        [22, 23],\n",
       "        [26, 27],\n",
       "        [30, 31],\n",
       "        [34, 35],\n",
       "        [38, 39],\n",
       "        [42, 43],\n",
       "        [46, 47]])]"
      ]
     },
     "execution_count": 42,
     "metadata": {},
     "output_type": "execute_result"
    }
   ],
   "source": [
    "np.hsplit(arr3,2)      # make 2 arrays of equal size"
   ]
  },
  {
   "cell_type": "code",
   "execution_count": 31,
   "id": "b05ea303",
   "metadata": {
    "scrolled": true
   },
   "outputs": [
    {
     "data": {
      "text/plain": [
       "array([[ 0,  1,  2,  3],\n",
       "       [ 4,  5,  6,  7],\n",
       "       [ 8,  9, 10, 11],\n",
       "       [12, 13, 14, 15],\n",
       "       [16, 17, 18, 19],\n",
       "       [20, 21, 22, 23],\n",
       "       [24, 25, 26, 27],\n",
       "       [28, 29, 30, 31],\n",
       "       [32, 33, 34, 35],\n",
       "       [36, 37, 38, 39],\n",
       "       [40, 41, 42, 43],\n",
       "       [44, 45, 46, 47]])"
      ]
     },
     "execution_count": 31,
     "metadata": {},
     "output_type": "execute_result"
    }
   ],
   "source": [
    "arr3"
   ]
  },
  {
   "cell_type": "code",
   "execution_count": 36,
   "id": "b755cd08",
   "metadata": {},
   "outputs": [
    {
     "data": {
      "text/plain": [
       "[array([[0, 1, 2, 3]]),\n",
       " array([[4, 5, 6, 7]]),\n",
       " array([[ 8,  9, 10, 11]]),\n",
       " array([[12, 13, 14, 15]]),\n",
       " array([[16, 17, 18, 19]]),\n",
       " array([[20, 21, 22, 23]]),\n",
       " array([[24, 25, 26, 27]]),\n",
       " array([[28, 29, 30, 31]]),\n",
       " array([[32, 33, 34, 35]]),\n",
       " array([[36, 37, 38, 39]]),\n",
       " array([[40, 41, 42, 43]]),\n",
       " array([[44, 45, 46, 47]])]"
      ]
     },
     "execution_count": 36,
     "metadata": {},
     "output_type": "execute_result"
    }
   ],
   "source": [
    "np.vsplit(arr3,12)      # we pass the total no. of rows to split into it."
   ]
  },
  {
   "cell_type": "code",
   "execution_count": 37,
   "id": "0c8a425c",
   "metadata": {},
   "outputs": [
    {
     "data": {
      "text/plain": [
       "[array([[0, 1, 2, 3],\n",
       "        [4, 5, 6, 7]]),\n",
       " array([[ 8,  9, 10, 11],\n",
       "        [12, 13, 14, 15]]),\n",
       " array([[16, 17, 18, 19],\n",
       "        [20, 21, 22, 23]]),\n",
       " array([[24, 25, 26, 27],\n",
       "        [28, 29, 30, 31]]),\n",
       " array([[32, 33, 34, 35],\n",
       "        [36, 37, 38, 39]]),\n",
       " array([[40, 41, 42, 43],\n",
       "        [44, 45, 46, 47]])]"
      ]
     },
     "execution_count": 37,
     "metadata": {},
     "output_type": "execute_result"
    }
   ],
   "source": [
    "np.vsplit(arr3,6)     # make 6 arrays of equal size"
   ]
  },
  {
   "cell_type": "code",
   "execution_count": 38,
   "id": "98ccaf35",
   "metadata": {},
   "outputs": [
    {
     "data": {
      "text/plain": [
       "[array([[ 0,  1,  2,  3],\n",
       "        [ 4,  5,  6,  7],\n",
       "        [ 8,  9, 10, 11]]),\n",
       " array([[12, 13, 14, 15],\n",
       "        [16, 17, 18, 19],\n",
       "        [20, 21, 22, 23]]),\n",
       " array([[24, 25, 26, 27],\n",
       "        [28, 29, 30, 31],\n",
       "        [32, 33, 34, 35]]),\n",
       " array([[36, 37, 38, 39],\n",
       "        [40, 41, 42, 43],\n",
       "        [44, 45, 46, 47]])]"
      ]
     },
     "execution_count": 38,
     "metadata": {},
     "output_type": "execute_result"
    }
   ],
   "source": [
    "np.vsplit(arr3,4)     # make 4 arrays of equal size"
   ]
  },
  {
   "cell_type": "code",
   "execution_count": 39,
   "id": "9964e79a",
   "metadata": {},
   "outputs": [
    {
     "data": {
      "text/plain": [
       "[array([[ 0,  1,  2,  3],\n",
       "        [ 4,  5,  6,  7],\n",
       "        [ 8,  9, 10, 11],\n",
       "        [12, 13, 14, 15]]),\n",
       " array([[16, 17, 18, 19],\n",
       "        [20, 21, 22, 23],\n",
       "        [24, 25, 26, 27],\n",
       "        [28, 29, 30, 31]]),\n",
       " array([[32, 33, 34, 35],\n",
       "        [36, 37, 38, 39],\n",
       "        [40, 41, 42, 43],\n",
       "        [44, 45, 46, 47]])]"
      ]
     },
     "execution_count": 39,
     "metadata": {},
     "output_type": "execute_result"
    }
   ],
   "source": [
    "np.vsplit(arr3,3)    # make 3 arrays of equal size"
   ]
  },
  {
   "cell_type": "code",
   "execution_count": 40,
   "id": "827d4280",
   "metadata": {},
   "outputs": [
    {
     "data": {
      "text/plain": [
       "[array([[ 0,  1,  2,  3],\n",
       "        [ 4,  5,  6,  7],\n",
       "        [ 8,  9, 10, 11],\n",
       "        [12, 13, 14, 15],\n",
       "        [16, 17, 18, 19],\n",
       "        [20, 21, 22, 23]]),\n",
       " array([[24, 25, 26, 27],\n",
       "        [28, 29, 30, 31],\n",
       "        [32, 33, 34, 35],\n",
       "        [36, 37, 38, 39],\n",
       "        [40, 41, 42, 43],\n",
       "        [44, 45, 46, 47]])]"
      ]
     },
     "execution_count": 40,
     "metadata": {},
     "output_type": "execute_result"
    }
   ],
   "source": [
    "np.vsplit(arr3,2)        # make 2 arrays of equal size"
   ]
  },
  {
   "cell_type": "code",
   "execution_count": null,
   "id": "f09f66a9",
   "metadata": {},
   "outputs": [],
   "source": []
  },
  {
   "cell_type": "code",
   "execution_count": null,
   "id": "dc30ac16",
   "metadata": {},
   "outputs": [],
   "source": []
  }
 ],
 "metadata": {
  "kernelspec": {
   "display_name": "Python 3 (ipykernel)",
   "language": "python",
   "name": "python3"
  },
  "language_info": {
   "codemirror_mode": {
    "name": "ipython",
    "version": 3
   },
   "file_extension": ".py",
   "mimetype": "text/x-python",
   "name": "python",
   "nbconvert_exporter": "python",
   "pygments_lexer": "ipython3",
   "version": "3.9.12"
  }
 },
 "nbformat": 4,
 "nbformat_minor": 5
}
